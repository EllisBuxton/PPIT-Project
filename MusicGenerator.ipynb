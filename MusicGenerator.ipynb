{
  "nbformat": 4,
  "nbformat_minor": 0,
  "metadata": {
    "colab": {
      "provenance": [],
      "authorship_tag": "ABX9TyMaXuK2lKhqS0CTw4ccUfFh",
      "include_colab_link": true
    },
    "kernelspec": {
      "name": "python3",
      "display_name": "Python 3"
    },
    "language_info": {
      "name": "python"
    }
  },
  "cells": [
    {
      "cell_type": "markdown",
      "metadata": {
        "id": "view-in-github",
        "colab_type": "text"
      },
      "source": [
        "<a href=\"https://colab.research.google.com/github/EllisBuxton/PPIT-Project/blob/main/MusicGenerator.ipynb\" target=\"_parent\"><img src=\"https://colab.research.google.com/assets/colab-badge.svg\" alt=\"Open In Colab\"/></a>"
      ]
    },
    {
      "cell_type": "markdown",
      "source": [
        "# Music Generator\n"
      ],
      "metadata": {
        "id": "AGrp5rEGbYfg"
      }
    },
    {
      "cell_type": "markdown",
      "source": [
        "\n",
        "\n",
        "*   I am going to using a genetic algorithm for the music generation\n",
        "*   the user will rate each variation of the audio which will alter how much it changes\n",
        "\n"
      ],
      "metadata": {
        "id": "cofHzEH77NsX"
      }
    },
    {
      "cell_type": "markdown",
      "source": [
        "**The Algorithm:**"
      ],
      "metadata": {
        "id": "sXjHVoOo9L7H"
      }
    },
    {
      "cell_type": "code",
      "source": [
        "from random import choices, randint, randrange, random, sample\n",
        "from typing import List, Optional, Callable, Tuple"
      ],
      "metadata": {
        "id": "lZ7XCtKn9RMy"
      },
      "execution_count": 46,
      "outputs": []
    },
    {
      "cell_type": "markdown",
      "source": [
        "Type Aliases (better maintainability) :"
      ],
      "metadata": {
        "id": "tiwGboepBXQd"
      }
    },
    {
      "cell_type": "code",
      "source": [
        "Genome = List[int] # Each genome will represent a specific soloution\n",
        "Population = List[Genome] # A collection of genome's\n",
        "PopulateFunc = Callable[[], Population] # Generates initial population of genome's\n",
        "FitnessFunc = Callable[[Genome], int] # Evaluates how well it solves problem\n",
        "SelectionFunc = Callable[[Population, FitnessFunc], Tuple[Genome, Genome]] # Selecting parent genome's based on fitness\n",
        "CrossoverFunc = Callable[[Genome, Genome], Tuple[Genome, Genome]] #  Takes two genomes as input and returns a tuple of two genomes (used tombine parent genome's)\n",
        "MutationFunc = Callable[[Genome], Genome] # Takes genome as input and return a modified genome\n",
        "PrinterFunc = Callable[[Population, int, FitnessFunc], None] # Printing current state of population"
      ],
      "metadata": {
        "id": "NlDXjqmF_jhi"
      },
      "execution_count": 47,
      "outputs": []
    },
    {
      "cell_type": "markdown",
      "source": [
        "Function to generate a radom genome of specified length:"
      ],
      "metadata": {
        "id": "UNUEQI3OGQ6a"
      }
    },
    {
      "cell_type": "code",
      "source": [
        "def generate_genome(length: int) -> Genome:\n",
        "    return choices([0, 1], k=length)"
      ],
      "metadata": {
        "id": "Oy38QdtKGYeL"
      },
      "execution_count": null,
      "outputs": []
    },
    {
      "cell_type": "markdown",
      "source": [
        "Function to generate a population of genomes :"
      ],
      "metadata": {
        "id": "0WZDVvf2GrI0"
      }
    },
    {
      "cell_type": "code",
      "source": [
        "def generate_population(size: int, genome_length: int) -> Population:\n",
        "    return [generate_genome(genome_length) for _ in range(size)]"
      ],
      "metadata": {
        "id": "ykI3QMzDGsMv"
      },
      "execution_count": null,
      "outputs": []
    }
  ]
}