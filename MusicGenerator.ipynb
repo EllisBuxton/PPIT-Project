{
  "nbformat": 4,
  "nbformat_minor": 0,
  "metadata": {
    "colab": {
      "provenance": [],
      "authorship_tag": "ABX9TyPiDn/wtkaMx+GB7u0s+RlL",
      "include_colab_link": true
    },
    "kernelspec": {
      "name": "python3",
      "display_name": "Python 3"
    },
    "language_info": {
      "name": "python"
    }
  },
  "cells": [
    {
      "cell_type": "markdown",
      "metadata": {
        "id": "view-in-github",
        "colab_type": "text"
      },
      "source": [
        "<a href=\"https://colab.research.google.com/github/EllisBuxton/PPIT-Project/blob/main/MusicGenerator.ipynb\" target=\"_parent\"><img src=\"https://colab.research.google.com/assets/colab-badge.svg\" alt=\"Open In Colab\"/></a>"
      ]
    },
    {
      "cell_type": "markdown",
      "source": [
        "# Music Generator\n"
      ],
      "metadata": {
        "id": "AGrp5rEGbYfg"
      }
    },
    {
      "cell_type": "markdown",
      "source": [
        "\n",
        "\n",
        "*   I am going to using a genetic algorithm for the music generation\n",
        "*   the user will rate each variation of the audio which will alter how much it changes\n",
        "\n"
      ],
      "metadata": {
        "id": "cofHzEH77NsX"
      }
    },
    {
      "cell_type": "markdown",
      "source": [
        "**The Algorithm:**"
      ],
      "metadata": {
        "id": "sXjHVoOo9L7H"
      }
    },
    {
      "cell_type": "code",
      "source": [
        "from random import choices, randint, randrange, random, sample\n",
        "from typing import List, Optional, Callable, Tuple"
      ],
      "metadata": {
        "id": "lZ7XCtKn9RMy"
      },
      "execution_count": 46,
      "outputs": []
    },
    {
      "cell_type": "markdown",
      "source": [
        "Type Aliases (better maintainability) :"
      ],
      "metadata": {
        "id": "tiwGboepBXQd"
      }
    },
    {
      "cell_type": "code",
      "source": [
        "Genome = List[int] # Each genome will represent a specific soloution\n",
        "Population = List[Genome] # A collection of genome's\n",
        "PopulateFunc = Callable[[], Population] # Generates initial population of genome's\n",
        "FitnessFunc = Callable[[Genome], int] # Evaluates how well it solves problem\n",
        "SelectionFunc = Callable[[Population, FitnessFunc], Tuple[Genome, Genome]] # Selecting parent genome's based on fitness\n",
        "CrossoverFunc = Callable[[Genome, Genome], Tuple[Genome, Genome]] #  Takes two genomes as input and returns a tuple of two genomes (used tombine parent genome's)\n",
        "MutationFunc = Callable[[Genome], Genome] # Takes genome as input and return a modified genome\n",
        "PrinterFunc = Callable[[Population, int, FitnessFunc], None] # Printing current state of population"
      ],
      "metadata": {
        "id": "NlDXjqmF_jhi"
      },
      "execution_count": 47,
      "outputs": []
    },
    {
      "cell_type": "markdown",
      "source": [
        "Function to generate a radom genome of specified length:"
      ],
      "metadata": {
        "id": "UNUEQI3OGQ6a"
      }
    },
    {
      "cell_type": "code",
      "source": [
        "def generate_genome(length: int) -> Genome:\n",
        "    return choices([0, 1], k=length)"
      ],
      "metadata": {
        "id": "Oy38QdtKGYeL"
      },
      "execution_count": null,
      "outputs": []
    },
    {
      "cell_type": "markdown",
      "source": [
        "Function to generate a population of genomes :"
      ],
      "metadata": {
        "id": "0WZDVvf2GrI0"
      }
    },
    {
      "cell_type": "code",
      "source": [
        "def generate_population(size: int, genome_length: int) -> Population:\n",
        "    return [generate_genome(genome_length) for _ in range(size)]"
      ],
      "metadata": {
        "id": "ykI3QMzDGsMv"
      },
      "execution_count": null,
      "outputs": []
    },
    {
      "cell_type": "markdown",
      "source": [
        "Function to perform crossover between two genomes:"
      ],
      "metadata": {
        "id": "WNjLZiXSHqNy"
      }
    },
    {
      "cell_type": "code",
      "source": [
        "def single_point_crossover(a: Genome, b: Genome) -> Tuple[Genome, Genome]:\n",
        "    if len(a) != len(b):\n",
        "        raise ValueError(\"Genomes a and b must be of same length\")\n",
        "\n",
        "    length = len(a)\n",
        "    if length < 2:\n",
        "        return a, b\n",
        "\n",
        "    # Select a random crossover point\n",
        "    p = randint(1, length - 1)\n",
        "    # Perform crossover and return offspring\n",
        "    return a[0:p] + b[p:], b[0:p] + a[p:]"
      ],
      "metadata": {
        "id": "Pjg5P_VBHsBH"
      },
      "execution_count": null,
      "outputs": []
    },
    {
      "cell_type": "markdown",
      "source": [
        "Function to perform mutation on a genome:"
      ],
      "metadata": {
        "id": "naUvnOAiIi7R"
      }
    },
    {
      "cell_type": "code",
      "source": [
        "def mutation(genome: Genome, num: int = 1, probability: float = 0.5) -> Genome:\n",
        "    for _ in range(num):\n",
        "        index = randrange(len(genome))\n",
        "        # Flip the bit at the selected index with a certain probability\n",
        "        genome[index] = genome[index] if random() > probability else abs(genome[index] - 1)\n",
        "    return genome"
      ],
      "metadata": {
        "id": "-BjODkd7IkDQ"
      },
      "execution_count": null,
      "outputs": []
    },
    {
      "cell_type": "markdown",
      "source": [
        "Function to calculate the total fitness of a population :"
      ],
      "metadata": {
        "id": "VggskdcOL5LR"
      }
    },
    {
      "cell_type": "code",
      "source": [
        "def population_fitness(population: Population, fitness_func: FitnessFunc) -> int:\n",
        "    return sum([fitness_func(genome) for genome in population])"
      ],
      "metadata": {
        "id": "5Q_8QS13L6TN"
      },
      "execution_count": null,
      "outputs": []
    },
    {
      "cell_type": "markdown",
      "source": [
        "Function to select a pair of genomes from the population for reproduction:"
      ],
      "metadata": {
        "id": "hTPSzFjEOpeA"
      }
    },
    {
      "cell_type": "code",
      "source": [
        "def selection_pair(population: Population, fitness_func: FitnessFunc) -> Population:\n",
        "    return sample(\n",
        "        population=generate_weighted_distribution(population, fitness_func),\n",
        "        k=2\n",
        "    )"
      ],
      "metadata": {
        "id": "JPvpyU3ROqRs"
      },
      "execution_count": null,
      "outputs": []
    },
    {
      "cell_type": "markdown",
      "source": [
        "Function to generate a weighted distribution of genomes based on their fitness:"
      ],
      "metadata": {
        "id": "ga4VBpCBRTjw"
      }
    },
    {
      "cell_type": "code",
      "source": [
        "def generate_weighted_distribution(population: Population, fitness_func: FitnessFunc) -> Population:\n",
        "    result = []\n",
        "\n",
        "    for gene in population:\n",
        "        result += [gene] * int(fitness_func(gene)+1)\n",
        "\n",
        "    return result"
      ],
      "metadata": {
        "id": "64FV9-GMRU09"
      },
      "execution_count": null,
      "outputs": []
    }
  ]
}