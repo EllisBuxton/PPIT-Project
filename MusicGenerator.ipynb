{
  "nbformat": 4,
  "nbformat_minor": 0,
  "metadata": {
    "colab": {
      "provenance": [],
      "authorship_tag": "ABX9TyO5YMYGF2ZJHHwjaTPMWyLb",
      "include_colab_link": true
    },
    "kernelspec": {
      "name": "python3",
      "display_name": "Python 3"
    },
    "language_info": {
      "name": "python"
    }
  },
  "cells": [
    {
      "cell_type": "markdown",
      "metadata": {
        "id": "view-in-github",
        "colab_type": "text"
      },
      "source": [
        "<a href=\"https://colab.research.google.com/github/EllisBuxton/PPIT-Project/blob/main/MusicGenerator.ipynb\" target=\"_parent\"><img src=\"https://colab.research.google.com/assets/colab-badge.svg\" alt=\"Open In Colab\"/></a>"
      ]
    },
    {
      "cell_type": "markdown",
      "source": [
        "# Music Generator\n"
      ],
      "metadata": {
        "id": "AGrp5rEGbYfg"
      }
    },
    {
      "cell_type": "markdown",
      "source": [
        "\n",
        "\n",
        "*   I am going to using a genetic algorithm for the music generation\n",
        "*   the user will rate each variation of the audio which will alter how much it changes\n",
        "\n"
      ],
      "metadata": {
        "id": "cofHzEH77NsX"
      }
    },
    {
      "cell_type": "markdown",
      "source": [
        "**The Algorithm:**"
      ],
      "metadata": {
        "id": "sXjHVoOo9L7H"
      }
    },
    {
      "cell_type": "code",
      "source": [
        "from random import choices, randint, randrange, random, sample\n",
        "from typing import List, Optional, Callable, Tuple"
      ],
      "metadata": {
        "id": "lZ7XCtKn9RMy"
      },
      "execution_count": 1,
      "outputs": []
    },
    {
      "cell_type": "markdown",
      "source": [
        "Type Aliases (better maintainability) :"
      ],
      "metadata": {
        "id": "tiwGboepBXQd"
      }
    },
    {
      "cell_type": "code",
      "source": [
        "Genome = List[int] # Each genome will represent a specific soloution\n",
        "Population = List[Genome] # A collection of genome's\n",
        "PopulateFunc = Callable[[], Population] # Generates initial population of genome's\n",
        "FitnessFunc = Callable[[Genome], int] # Evaluates how well it solves problem\n",
        "SelectionFunc = Callable[[Population, FitnessFunc], Tuple[Genome, Genome]] # Selecting parent genome's based on fitness\n",
        "CrossoverFunc = Callable[[Genome, Genome], Tuple[Genome, Genome]] #  Takes two genomes as input and returns a tuple of two genomes (used tombine parent genome's)\n",
        "MutationFunc = Callable[[Genome], Genome] # Takes genome as input and return a modified genome\n",
        "PrinterFunc = Callable[[Population, int, FitnessFunc], None] # Printing current state of population"
      ],
      "metadata": {
        "id": "NlDXjqmF_jhi"
      },
      "execution_count": 2,
      "outputs": []
    },
    {
      "cell_type": "markdown",
      "source": [
        "Function to generate a radom genome of specified length:"
      ],
      "metadata": {
        "id": "UNUEQI3OGQ6a"
      }
    },
    {
      "cell_type": "code",
      "source": [
        "def generate_genome(length: int) -> Genome:\n",
        "    return choices([0, 1], k=length)"
      ],
      "metadata": {
        "id": "Oy38QdtKGYeL"
      },
      "execution_count": 3,
      "outputs": []
    },
    {
      "cell_type": "markdown",
      "source": [
        "Function to generate a population of genomes :"
      ],
      "metadata": {
        "id": "0WZDVvf2GrI0"
      }
    },
    {
      "cell_type": "code",
      "source": [
        "def generate_population(size: int, genome_length: int) -> Population:\n",
        "    return [generate_genome(genome_length) for _ in range(size)]"
      ],
      "metadata": {
        "id": "ykI3QMzDGsMv"
      },
      "execution_count": 4,
      "outputs": []
    },
    {
      "cell_type": "markdown",
      "source": [
        "Function to perform crossover between two genomes:"
      ],
      "metadata": {
        "id": "WNjLZiXSHqNy"
      }
    },
    {
      "cell_type": "code",
      "source": [
        "def single_point_crossover(a: Genome, b: Genome) -> Tuple[Genome, Genome]:\n",
        "    if len(a) != len(b):\n",
        "        raise ValueError(\"Genomes a and b must be of same length\")\n",
        "\n",
        "    length = len(a)\n",
        "    if length < 2:\n",
        "        return a, b\n",
        "\n",
        "    # Select a random crossover point\n",
        "    p = randint(1, length - 1)\n",
        "    # Perform crossover and return offspring\n",
        "    return a[0:p] + b[p:], b[0:p] + a[p:]"
      ],
      "metadata": {
        "id": "Pjg5P_VBHsBH"
      },
      "execution_count": 5,
      "outputs": []
    },
    {
      "cell_type": "markdown",
      "source": [
        "Function to perform mutation on a genome:"
      ],
      "metadata": {
        "id": "naUvnOAiIi7R"
      }
    },
    {
      "cell_type": "code",
      "source": [
        "def mutation(genome: Genome, num: int = 1, probability: float = 0.5) -> Genome:\n",
        "    for _ in range(num):\n",
        "        index = randrange(len(genome))\n",
        "        # Flip the bit at the selected index with a certain probability\n",
        "        genome[index] = genome[index] if random() > probability else abs(genome[index] - 1)\n",
        "    return genome"
      ],
      "metadata": {
        "id": "-BjODkd7IkDQ"
      },
      "execution_count": 6,
      "outputs": []
    },
    {
      "cell_type": "markdown",
      "source": [
        "Function to calculate the total fitness of a population :"
      ],
      "metadata": {
        "id": "VggskdcOL5LR"
      }
    },
    {
      "cell_type": "code",
      "source": [
        "def population_fitness(population: Population, fitness_func: FitnessFunc) -> int:\n",
        "    return sum([fitness_func(genome) for genome in population])"
      ],
      "metadata": {
        "id": "5Q_8QS13L6TN"
      },
      "execution_count": 7,
      "outputs": []
    },
    {
      "cell_type": "markdown",
      "source": [
        "Function to select a pair of genomes from the population for reproduction:"
      ],
      "metadata": {
        "id": "hTPSzFjEOpeA"
      }
    },
    {
      "cell_type": "code",
      "source": [
        "def selection_pair(population: Population, fitness_func: FitnessFunc) -> Population:\n",
        "    return sample(\n",
        "        population=generate_weighted_distribution(population, fitness_func),\n",
        "        k=2\n",
        "    )"
      ],
      "metadata": {
        "id": "JPvpyU3ROqRs"
      },
      "execution_count": 8,
      "outputs": []
    },
    {
      "cell_type": "markdown",
      "source": [
        "Function to generate a weighted distribution of genomes based on their fitness:"
      ],
      "metadata": {
        "id": "ga4VBpCBRTjw"
      }
    },
    {
      "cell_type": "code",
      "source": [
        "def generate_weighted_distribution(population: Population, fitness_func: FitnessFunc) -> Population:\n",
        "    result = []\n",
        "\n",
        "    for gene in population:\n",
        "        result += [gene] * int(fitness_func(gene)+1)\n",
        "\n",
        "    return result"
      ],
      "metadata": {
        "id": "64FV9-GMRU09"
      },
      "execution_count": 9,
      "outputs": []
    },
    {
      "cell_type": "markdown",
      "source": [
        "Function to sort the population based on fitness:"
      ],
      "metadata": {
        "id": "nXUYVfZ8VkvM"
      }
    },
    {
      "cell_type": "code",
      "source": [
        "def sort_population(population: Population, fitness_func: FitnessFunc) -> Population:\n",
        "    return sorted(population, key=fitness_func, reverse=True)"
      ],
      "metadata": {
        "id": "GhL0g27DVlp0"
      },
      "execution_count": 10,
      "outputs": []
    },
    {
      "cell_type": "markdown",
      "source": [
        "Function to convert a genome to a string for printing"
      ],
      "metadata": {
        "id": "7oP9th22VoJN"
      }
    },
    {
      "cell_type": "code",
      "source": [
        "def genome_to_string(genome: Genome) -> str:\n",
        "    return \"\".join(map(str, genome))"
      ],
      "metadata": {
        "id": "TQ9FHf5WVpqC"
      },
      "execution_count": 11,
      "outputs": []
    },
    {
      "cell_type": "markdown",
      "source": [
        "Function to print statistics of the current population"
      ],
      "metadata": {
        "id": "gYr3qyNoZ6Sv"
      }
    },
    {
      "cell_type": "code",
      "source": [
        "def print_stats(population: Population, generation_id: int, fitness_func: FitnessFunc):\n",
        "    print(\"GENERATION %02d\" % generation_id)\n",
        "    print(\"=============\")\n",
        "    print(\"Population: [%s]\" % \", \".join([genome_to_string(gene) for gene in population]))\n",
        "    print(\"Avg. Fitness: %f\" % (population_fitness(population, fitness_func) / len(population)))\n",
        "    sorted_population = sort_population(population, fitness_func)\n",
        "    print(\n",
        "        \"Best: %s (%f)\" % (genome_to_string(sorted_population[0]), fitness_func(sorted_population[0])))\n",
        "    print(\"Worst: %s (%f)\" % (genome_to_string(sorted_population[-1]),\n",
        "                              fitness_func(sorted_population[-1])))\n",
        "    print(\"\")\n",
        "\n",
        "    return sorted_population[0]"
      ],
      "metadata": {
        "id": "NWDppVOPZ7Bd"
      },
      "execution_count": 12,
      "outputs": []
    },
    {
      "cell_type": "markdown",
      "source": [],
      "metadata": {
        "id": "2qJdCJ84Z9Uw"
      }
    },
    {
      "cell_type": "markdown",
      "source": [
        "Main function to run the genetic algorithm:"
      ],
      "metadata": {
        "id": "V1NyqdKdb6Vd"
      }
    },
    {
      "cell_type": "code",
      "source": [
        "def run_evolution(\n",
        "        populate_func: PopulateFunc,\n",
        "        fitness_func: FitnessFunc,\n",
        "        fitness_limit: int,\n",
        "        selection_func: SelectionFunc = selection_pair,\n",
        "        crossover_func: CrossoverFunc = single_point_crossover,\n",
        "        mutation_func: MutationFunc = mutation,\n",
        "        generation_limit: int = 100,\n",
        "        printer: Optional[PrinterFunc] = None) \\\n",
        "        -> Tuple[Population, int]:\n",
        "    population = populate_func()\n",
        "\n",
        "    # Iterate through generations\n",
        "    for i in range(generation_limit):\n",
        "        # Sort population based on fitness\n",
        "        population = sorted(population, key=lambda genome: fitness_func(genome), reverse=True)\n",
        "\n",
        "        # Print statistics if printer function is provided\n",
        "        if printer is not None:\n",
        "            printer(population, i, fitness_func)\n",
        "\n",
        "        # Check termination condition\n",
        "        if fitness_func(population[0]) >= fitness_limit:\n",
        "            break\n",
        "\n",
        "        next_generation = population[0:2]\n",
        "\n",
        "        # Generate next generation\n",
        "        for j in range(int(len(population) / 2) - 1):\n",
        "            parents = selection_func(population, fitness_func)\n",
        "            offspring_a, offspring_b = crossover_func(parents[0], parents[1])\n",
        "            offspring_a = mutation_func(offspring_a)\n",
        "            offspring_b = mutation_func(offspring_b)\n",
        "            next_generation += [offspring_a, offspring_b]\n",
        "\n",
        "        population = next_generation\n",
        "\n",
        "    return population, i"
      ],
      "metadata": {
        "id": "unQAIwVZb7ne"
      },
      "execution_count": 13,
      "outputs": []
    },
    {
      "cell_type": "markdown",
      "source": [
        "**Music Generator App code :**"
      ],
      "metadata": {
        "id": "q2J1vc3Fh1No"
      }
    },
    {
      "cell_type": "code",
      "source": [
        "import click # Used to make a simple interface\n",
        "from datetime import datetime # Date and time operations\n",
        "from typing import List, Dict # Type Hinting\n",
        "from midiutil import MIDIFile # For midi files creation and editing\n",
        "from pyo import * # Audio synthesis\n",
        "from algorithms.genetic import generate_genome, Genome, selection_pair, single_point_crossover, mutation # Functions from the algorithm code"
      ],
      "metadata": {
        "id": "C6ElJ7z6oDTb"
      },
      "execution_count": null,
      "outputs": []
    },
    {
      "cell_type": "markdown",
      "source": [
        "Constants for the musical properties:"
      ],
      "metadata": {
        "id": "Qfr_2PGNoDwZ"
      }
    },
    {
      "cell_type": "code",
      "source": [
        "BITS_PER_NOTE = 4  # Number of bits representing each note\n",
        "KEYS = [\"C\", \"C#\", \"Db\", \"D\", \"D#\", \"Eb\", \"E\", \"F\", \"F#\", \"Gb\", \"G\", \"G#\", \"Ab\", \"A\", \"A#\", \"Bb\", \"B\"]  # Musical keys\n",
        "SCALES = [\"major\", \"minorM\", \"dorian\", \"phrygian\", \"lydian\", \"mixolydian\", \"majorBlues\", \"minorBlues\"]  # Musical scales"
      ],
      "metadata": {
        "id": "6WJ1Zt0powJ5"
      },
      "execution_count": null,
      "outputs": []
    },
    {
      "cell_type": "markdown",
      "source": [
        "Function converts bits to integers:\n"
      ],
      "metadata": {
        "id": "IZ9dBT5wrKqe"
      }
    },
    {
      "cell_type": "code",
      "source": [
        "def int_from_bits(bits: List[int]) -> int:\n",
        "    return int(sum([bit*pow(2, index) for index, bit in enumerate(bits)]))"
      ],
      "metadata": {
        "id": "63JhwmAUrQSa"
      },
      "execution_count": null,
      "outputs": []
    },
    {
      "cell_type": "markdown",
      "source": [
        "Function to generate melody from genome:"
      ],
      "metadata": {
        "id": "LmM5_ZimrUdt"
      }
    },
    {
      "cell_type": "code",
      "source": [
        "def genome_to_melody(genome: Genome, num_bars: int, num_notes: int, num_steps: int,\n",
        "                     pauses: int, key: str, scale: str, root: int) -> Dict[str, list]:\n",
        "    # Extracting notes from genome\n",
        "    notes = [genome[i * BITS_PER_NOTE:i * BITS_PER_NOTE + BITS_PER_NOTE] for i in range(num_bars * num_notes)]\n",
        "\n",
        "    # Calculating note length\n",
        "    note_length = 4 / float(num_notes)\n",
        "\n",
        "    # Creating an event scale\n",
        "    scl = EventScale(root=key, scale=scale, first=root)\n",
        "\n",
        "    # Initializing melody dictionary\n",
        "    melody = {\n",
        "        \"notes\": [],\n",
        "        \"velocity\": [],\n",
        "        \"beat\": []\n",
        "    }\n",
        "\n",
        "    # Converting notes to melody events\n",
        "    for note in notes:\n",
        "        integer = int_from_bits(note)\n",
        "\n",
        "        # Handling pauses\n",
        "        if not pauses:\n",
        "            integer = int(integer % pow(2, BITS_PER_NOTE - 1))\n",
        "\n",
        "        # Checking if the note is a rest\n",
        "        if integer >= pow(2, BITS_PER_NOTE - 1):\n",
        "            melody[\"notes\"] += [0]\n",
        "            melody[\"velocity\"] += [0]\n",
        "            melody[\"beat\"] += [note_length]\n",
        "        else:\n",
        "            # Handling sustained notes\n",
        "            if len(melody[\"notes\"]) > 0 and melody[\"notes\"][-1] == integer:\n",
        "                melody[\"beat\"][-1] += note_length\n",
        "            else:\n",
        "                melody[\"notes\"] += [integer]\n",
        "                melody[\"velocity\"] += [127]\n",
        "                melody[\"beat\"] += [note_length]"
      ],
      "metadata": {
        "id": "qOqMtifmrV-q"
      },
      "execution_count": null,
      "outputs": []
    },
    {
      "cell_type": "markdown",
      "source": [
        "Function to generate melody from genome:"
      ],
      "metadata": {
        "id": "L4FPCze1tXTD"
      }
    },
    {
      "cell_type": "code",
      "source": [
        "def genome_to_melody(genome: Genome, num_bars: int, num_notes: int, num_steps: int,\n",
        "                     pauses: int, key: str, scale: str, root: int) -> Dict[str, list]:\n",
        "    # Extracting notes from genome\n",
        "    notes = [genome[i * BITS_PER_NOTE:i * BITS_PER_NOTE + BITS_PER_NOTE] for i in range(num_bars * num_notes)]\n",
        "\n",
        "    # Calculating note length\n",
        "    note_length = 4 / float(num_notes)\n",
        "\n",
        "    # Creating an event scale\n",
        "    scl = EventScale(root=key, scale=scale, first=root)\n",
        "\n",
        "    # Initializing melody dictionary\n",
        "    melody = {\n",
        "        \"notes\": [],\n",
        "        \"velocity\": [],\n",
        "        \"beat\": []\n",
        "    }\n",
        "\n",
        "    # Converting notes to melody events\n",
        "    for note in notes:\n",
        "        integer = int_from_bits(note)\n",
        "\n",
        "        # Handling pauses\n",
        "        if not pauses:\n",
        "            integer = int(integer % pow(2, BITS_PER_NOTE - 1))\n",
        "\n",
        "        # Checking if the note is a rest\n",
        "        if integer >= pow(2, BITS_PER_NOTE - 1):\n",
        "            melody[\"notes\"] += [0]\n",
        "            melody[\"velocity\"] += [0]\n",
        "            melody[\"beat\"] += [note_length]\n",
        "        else:\n",
        "            # Handling sustained notes\n",
        "            if len(melody[\"notes\"]) > 0 and melody[\"notes\"][-1] == integer:\n",
        "                melody[\"beat\"][-1] += note_length\n",
        "            else:\n",
        "                melody[\"notes\"] += [integer]\n",
        "                melody[\"velocity\"] += [127]\n",
        "                melody[\"beat\"] += [note_length]"
      ],
      "metadata": {
        "id": "6kzUymqstZqT"
      },
      "execution_count": null,
      "outputs": []
    }
  ]
}