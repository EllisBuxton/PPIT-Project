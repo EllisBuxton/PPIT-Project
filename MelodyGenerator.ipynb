{
  "nbformat": 4,
  "nbformat_minor": 0,
  "metadata": {
    "colab": {
      "provenance": [],
      "collapsed_sections": [
        "n4jVrcYVuoYq"
      ],
      "authorship_tag": "ABX9TyOuakUJcaUdEhjlDyPuM6vL",
      "include_colab_link": true
    },
    "kernelspec": {
      "name": "python3",
      "display_name": "Python 3"
    },
    "language_info": {
      "name": "python"
    }
  },
  "cells": [
    {
      "cell_type": "markdown",
      "metadata": {
        "id": "view-in-github",
        "colab_type": "text"
      },
      "source": [
        "<a href=\"https://colab.research.google.com/github/EllisBuxton/PPIT-Project/blob/main/MelodyGenerator.ipynb\" target=\"_parent\"><img src=\"https://colab.research.google.com/assets/colab-badge.svg\" alt=\"Open In Colab\"/></a>"
      ]
    },
    {
      "cell_type": "markdown",
      "source": [
        "# **Genetic Alogirthm Melody Generation**"
      ],
      "metadata": {
        "id": "n4jVrcYVuoYq"
      }
    },
    {
      "cell_type": "markdown",
      "source": [
        "In this notebook I will be creating a Genetic Algorithm and using it to create a melody.\n",
        "\n",
        "I hope to show the following :    \n",
        "\n",
        "1.   What are Genetic Algorithm's.\n",
        "2.   How they work.\n",
        "3.   Generating Melody's using the Genetic Algorithm\n",
        "\n",
        "\n",
        "\n"
      ],
      "metadata": {
        "id": "uggby5WcwHt7"
      }
    },
    {
      "cell_type": "markdown",
      "source": [
        "# Setup"
      ],
      "metadata": {
        "id": "itrfE0zh8OOe"
      }
    },
    {
      "cell_type": "markdown",
      "source": [
        "The **random** module is used in this genetic algorithm implementation to introduce randomness at various stages, such as generating random genomes, selecting individuals from the population, performing mutation, and determining crossover points. Randomness is a crucial aspect of genetic algorithms because it helps explore the search space effectively, preventing the algorithm from getting stuck in local optima and promoting diversity within the population."
      ],
      "metadata": {
        "id": "T3igQmcN8V1D"
      }
    },
    {
      "cell_type": "code",
      "source": [
        "from random import choices, randint, randrange, random, sample"
      ],
      "metadata": {
        "id": "ES312VF99WU1"
      },
      "execution_count": 1,
      "outputs": []
    },
    {
      "cell_type": "markdown",
      "source": [
        "The **typing** module is used to provide type hints for function parameters and return values. Type hints improve code readability and maintainability by indicating the expected types of arguments and return values for functions."
      ],
      "metadata": {
        "id": "X-eaXQSc9jMi"
      }
    },
    {
      "cell_type": "code",
      "source": [
        "from typing import List, Optional, Callable, Tuple, Dict"
      ],
      "metadata": {
        "id": "8EpSaIki9kJm"
      },
      "execution_count": 2,
      "outputs": []
    },
    {
      "cell_type": "markdown",
      "source": [
        "The **os** Module is used to provide access to operating system functionalities. In this script, it's used for creating directories and handling file paths"
      ],
      "metadata": {
        "id": "cZwHEeDT-d_4"
      }
    },
    {
      "cell_type": "code",
      "source": [
        "import os"
      ],
      "metadata": {
        "id": "YEWV5vmN-zQt"
      },
      "execution_count": 3,
      "outputs": []
    },
    {
      "cell_type": "markdown",
      "source": [
        "The **time** module provides access to time-related functions. It's used for introducing delays in the script, such as waiting before playing the next generation of melodies."
      ],
      "metadata": {
        "id": "avnlqX4m_JT0"
      }
    },
    {
      "cell_type": "code",
      "source": [
        "import time"
      ],
      "metadata": {
        "id": "Q-_0p73C-1b1"
      },
      "execution_count": 4,
      "outputs": []
    },
    {
      "cell_type": "markdown",
      "source": [
        "The **datetime** module is used for generating unique folder names based on the current timestamp."
      ],
      "metadata": {
        "id": "BMpzTNRh_Juy"
      }
    },
    {
      "cell_type": "code",
      "source": [
        "from datetime import datetime"
      ],
      "metadata": {
        "id": "ksLfBWJx-3vq"
      },
      "execution_count": 5,
      "outputs": []
    },
    {
      "cell_type": "markdown",
      "source": [
        "**MidiUtil** and **Pyo** may need to be installed using pip."
      ],
      "metadata": {
        "id": "3rSZ1PQ6H3T_"
      }
    },
    {
      "cell_type": "code",
      "source": [
        "!pip install pyo\n",
        "!pip install midiutil"
      ],
      "metadata": {
        "id": "2EW2Jpa7Hzcm",
        "colab": {
          "base_uri": "https://localhost:8080/"
        },
        "outputId": "0270d3da-177d-4861-a291-d948345ff251"
      },
      "execution_count": 6,
      "outputs": [
        {
          "output_type": "stream",
          "name": "stdout",
          "text": [
            "Requirement already satisfied: pyo in c:\\users\\ellis\\appdata\\local\\packages\\pythonsoftwarefoundation.python.3.10_qbz5n2kfra8p0\\localcache\\local-packages\\python310\\site-packages (1.0.5)"
          ]
        },
        {
          "output_type": "stream",
          "name": "stderr",
          "text": [
            "\n",
            "[notice] A new release of pip is available: 23.0.1 -> 24.0\n",
            "[notice] To update, run: C:\\Users\\ellis\\AppData\\Local\\Microsoft\\WindowsApps\\PythonSoftwareFoundation.Python.3.10_qbz5n2kfra8p0\\python.exe -m pip install --upgrade pip\n"
          ]
        },
        {
          "output_type": "stream",
          "name": "stdout",
          "text": [
            "\n",
            "Requirement already satisfied: midiutil in c:\\users\\ellis\\appdata\\local\\packages\\pythonsoftwarefoundation.python.3.10_qbz5n2kfra8p0\\localcache\\local-packages\\python310\\site-packages (1.2.1)\n"
          ]
        },
        {
          "output_type": "stream",
          "name": "stderr",
          "text": [
            "\n",
            "[notice] A new release of pip is available: 23.0.1 -> 24.0\n",
            "[notice] To update, run: C:\\Users\\ellis\\AppData\\Local\\Microsoft\\WindowsApps\\PythonSoftwareFoundation.Python.3.10_qbz5n2kfra8p0\\python.exe -m pip install --upgrade pip\n"
          ]
        }
      ]
    },
    {
      "cell_type": "markdown",
      "source": [
        "The **midiutil** module is used for generating MIDI files based on the melodies generated by the genetic algorithm."
      ],
      "metadata": {
        "id": "k_lEBLfR_Kjc"
      }
    },
    {
      "cell_type": "code",
      "source": [
        "from midiutil import MIDIFile"
      ],
      "metadata": {
        "id": "LmHyaAih-7vY"
      },
      "execution_count": 7,
      "outputs": []
    },
    {
      "cell_type": "markdown",
      "source": [
        "The **pyo** module is a Python library for digital signal processing, synthesis, and audio programming. It's used in this script for sound synthesis, generating metronome sounds, and playing melodies."
      ],
      "metadata": {
        "id": "Z1ShTEM0_K0Y"
      }
    },
    {
      "cell_type": "code",
      "source": [
        "import pyo\n",
        "from pyo import *"
      ],
      "metadata": {
        "id": "qxehjEif_GLl",
        "outputId": "b637b34b-88ad-4f82-e6b4-75fbc456c4a6",
        "colab": {
          "base_uri": "https://localhost:8080/"
        }
      },
      "execution_count": 8,
      "outputs": [
        {
          "output_type": "stream",
          "name": "stdout",
          "text": [
            "\n",
            "WxPython is not found for the current python version.\n",
            "Pyo will use a minimal GUI toolkit written with Tkinter (if available).\n",
            "This toolkit has limited functionnalities and is no more\n",
            "maintained or updated. If you want to use all of pyo's\n",
            "GUI features, you should install WxPython, available here:\n",
            "http://www.wxpython.org/\n",
            "\n"
          ]
        }
      ]
    },
    {
      "cell_type": "markdown",
      "source": [
        "This notebook will be split into 2 parts, I will go into detail on the Genetic Algorithm itself and then explain how i used it to create melody's"
      ],
      "metadata": {
        "id": "Z4fjq1fNFDuu"
      }
    },
    {
      "cell_type": "markdown",
      "source": [
        "# Introduction:"
      ],
      "metadata": {
        "id": "FURGPhVr10Zb"
      }
    },
    {
      "cell_type": "markdown",
      "source": [
        "A genetic algorithm (GA) is a type of optimization algorithm inspired by the principles of natural selection and genetics. It is commonly used to find optimal or near-optimal solutions to complex problems where traditional methods might be impractical.\n",
        "\n",
        "The basic idea behind genetic algorithms is to mimic the process of natural selection to evolve solutions to a problem over successive generations.\n",
        "\n"
      ],
      "metadata": {
        "id": "W28uBVZr2X9w"
      }
    },
    {
      "cell_type": "markdown",
      "source": [
        "# How it works:"
      ],
      "metadata": {
        "id": "fndRYojQ21kk"
      }
    },
    {
      "cell_type": "markdown",
      "source": [
        "1. Initialization: A population of potential solutions (individuals/Genome's) is randomly generated.\n",
        "\n",
        "2. Evaluation: Each individual in the population is evaluated according to a predefined fitness function, which measures how good the solution is. This function is problem-specific and typically reflects the objective or goal of the optimization.\n",
        "\n",
        "3. Selection: Individuals are selected from the current population to serve as parents for the next generation. Selection is usually based on the individuals' fitness, with fitter individuals being more likely to be selected. Various selection methods such as roulette wheel selection, tournament selection, or rank-based selection can be used.\n",
        "\n",
        "4. Crossover (Recombination): Selected individuals (parents) are combined to produce offspring through crossover or recombination. This process involves exchanging genetic information between parents to create new solutions. The specific method of crossover varies but often involves randomly selecting crossover points in the genetic representation of individuals.\n",
        "\n",
        "5. Mutation: After crossover, some individuals may undergo mutation, which introduces small random changes to their genetic representation. Mutation helps to maintain genetic diversity in the population and prevents premature convergence to suboptimal solutions.\n",
        "\n",
        "6. Replacement: The new offspring and possibly some of the existing individuals form the next generation population, replacing the previous generation.\n",
        "\n",
        "7. Termination: The algorithm continues iterating through generations until a termination criterion is met, such as reaching a maximum number of generations, finding a satisfactory solution, or no significant improvement occurring over several generations."
      ],
      "metadata": {
        "id": "Gh8p9cZO27lp"
      }
    },
    {
      "cell_type": "markdown",
      "source": [
        "# The Algorithm:"
      ],
      "metadata": {
        "id": "CbeUhQE4AeFd"
      }
    },
    {
      "cell_type": "markdown",
      "source": [
        "* Starting off im defining type aliases using Python annotations. Type aliases\n",
        "allow you to assign a new name to an existing type. This can enhance code readability, maintainability, and flexibility, especially in situations where complex types are frequently used."
      ],
      "metadata": {
        "id": "Lx579Xe5AmUO"
      }
    },
    {
      "cell_type": "code",
      "source": [
        "# Type Aliases\n",
        "Genome = List[int]\n",
        "Population = List[Genome]\n",
        "PopulateFunc = Callable[[], Population]\n",
        "FitnessFunc = Callable[[Genome], int]\n",
        "SelectionFunc = Callable[[Population, FitnessFunc], Tuple[Genome, Genome]]\n",
        "CrossoverFunc = Callable[[Genome, Genome], Tuple[Genome, Genome]]\n",
        "MutationFunc = Callable[[Genome], Genome]\n",
        "PrinterFunc = Callable[[Population, int, FitnessFunc], None]"
      ],
      "metadata": {
        "id": "4FL2y2WxAIMU"
      },
      "execution_count": 9,
      "outputs": []
    },
    {
      "cell_type": "markdown",
      "source": [
        "* Here I'm defining a function called ***generate_genome*** that takes an integer parameter length, representing the length of the genome to generate. The function returns a random genome, which is essentially a sequence of binary digits (0s and 1s) of the specified length."
      ],
      "metadata": {
        "id": "zK-YgoBmBZtg"
      }
    },
    {
      "cell_type": "code",
      "source": [
        "# Function to generate a random genome of specified length\n",
        "def generate_genome(length: int) -> Genome:\n",
        "    return choices([0, 1], k=length)"
      ],
      "metadata": {
        "id": "j7L_M7wzBCl6"
      },
      "execution_count": 10,
      "outputs": []
    },
    {
      "cell_type": "markdown",
      "source": [
        "* the ***generate_population*** takes in an integer paramter size, representing the size of the population to generate. It also takes in the length of the genomes from the ***generate_genome*** function. It returns the desired amount of genome's at the desired length."
      ],
      "metadata": {
        "id": "c5kBU-r_Cch_"
      }
    },
    {
      "cell_type": "code",
      "source": [
        "# Function to generate a population of genomes\n",
        "def generate_population(size: int, genome_length: int) -> Population:\n",
        "    return [generate_genome(genome_length) for _ in range(size)]"
      ],
      "metadata": {
        "id": "ZuWVVAFbCGzI"
      },
      "execution_count": 11,
      "outputs": []
    },
    {
      "cell_type": "markdown",
      "source": [
        "* This function is implementing a ***single-point crossover*** operation between two genomes a and b. In genetic algorithms and evolutionary computation, crossover is a fundamental genetic operator used to create offspring from parent genomes. It simulates the natural genetic recombination process that occurs during sexual reproduction.\n",
        "\n",
        "    Here's what is happening :\n",
        "\n",
        "\n",
        "\n",
        "\n",
        "1. **Input Validation**: The function starts by ensuring that both genomes a and b have the same length. This is crucial for the crossover operation to be performed properly. If the lengths are not equal, it raises a ValueError.\n",
        "\n",
        "2. **Length Check**: If the length of the genomes is less than 2, it means there's not enough genetic material to perform a meaningful crossover. In this case, it simply returns the original genomes a and b. This is to prevent errors and ensure that the crossover operation can be meaningful.\n",
        "\n",
        "3. **Selecting Crossover Point**: A random integer p is chosen between 1 and length - 1, inclusive. This integer represents the index at which the crossover will occur. It's important that p is not 0 or equal to the length of the genomes, as that wouldn't result in any crossover.\n",
        "\n",
        "4. **Performing Crossover**: The crossover operation is then performed. The first part of genome a up to index p is combined with the second part of genome b starting from index p. Similarly, the first part of genome b up to index p is combined with the second part of genome a starting from index p. This swapping of genetic material simulates the exchange of genetic information between two parent genomes.\n",
        "\n",
        "5. **Returning Offspring Genomes**: The function returns a tuple containing the two offspring genomes resulting from the crossover operation."
      ],
      "metadata": {
        "id": "n9neIRUZEIND"
      }
    },
    {
      "cell_type": "code",
      "source": [
        "# Function to perform crossover between two genomes\n",
        "def single_point_crossover(a: Genome, b: Genome) -> Tuple[Genome, Genome]:\n",
        "    if len(a) != len(b):\n",
        "        raise ValueError(\"Genomes a and b must be of the same length\")\n",
        "\n",
        "    length = len(a)\n",
        "    if length < 2:\n",
        "        return a, b\n",
        "\n",
        "    p = randint(1, length - 1)\n",
        "    return a[0:p] + b[p:], b[0:p] + a[p:]"
      ],
      "metadata": {
        "id": "aOu8CNYNCIgt"
      },
      "execution_count": 12,
      "outputs": []
    },
    {
      "cell_type": "markdown",
      "source": [
        "* This function is implementing a mutation operation on a genome. In evolutionary algorithms, mutation introduces random changes in individual genomes to explore new regions of the search space and potentially improve the diversity of the population. Here's an explanation of what's happening in the function:\n",
        "\n",
        "Input Parameters:\n",
        "* **genome**: The genome on which mutation will be performed.\n",
        "* **num**: The number of mutations to perform. By default, it's set to 1, meaning the function will mutate one randomly selected gene in the genome.\n",
        "* **probability**: The probability of each gene in the genome to undergo mutation. By default, it's set to 0.5, meaning each gene has a 50% chance of being mutated.\n",
        "\n",
        "Mutation Process:\n",
        "* The function iterates num times, each time selecting a random index within the genome.\n",
        "* At each iteration, a random index within the genome is selected using randrange(len(genome)). This index determines which gene will undergo mutation.\n",
        "* The gene at the selected index is then mutated based on the probability parameter. If a random number generated by random() is greater than probability, the gene remains unchanged (genome[index] = genome[index]). Otherwise, the gene is flipped (if it's binary) by subtracting its value from 1 (abs(genome[index] - 1)).\n",
        "\n",
        "Returning Mutated Genome:\n",
        "* Once all mutations are performed, the function returns the mutated genome.\n"
      ],
      "metadata": {
        "id": "8MTJEaWuFKpC"
      }
    },
    {
      "cell_type": "code",
      "source": [
        "# Function to perform mutation on a genome\n",
        "def mutation(genome: Genome, num: int = 1, probability: float = 0.5) -> Genome:\n",
        "    for _ in range(num):\n",
        "        index = random.randrange(len(genome))\n",
        "        genome[index] = genome[index] if random.random() > probability else abs(genome[index] - 1)\n",
        "    return genome"
      ],
      "metadata": {
        "id": "-Oso-Z87CMWg"
      },
      "execution_count": 13,
      "outputs": []
    },
    {
      "cell_type": "markdown",
      "source": [
        "* This function calculates the total fitness of a population by summing up the fitness values of all the genomes within that population. Here's a breakdown of what's happening in the function:\n",
        "\n",
        "Input Parameters:\n",
        "\n",
        "* population: This is a collection of genomes representing the entire population.\n",
        "* fitness_func: This is a fitness function that takes a single genome as input and returns its fitness value. This function is applied to each genome in the population to calculate its fitness.\n",
        "\n",
        "Comprehension:\n",
        "\n",
        "* The function uses a list comprehension to iterate over each genome in the population.\n",
        "For each genome, the fitness_func is called to calculate its fitness value. This results in a list of fitness values corresponding to each genome in the population.\n",
        "Summation:\n",
        "\n",
        "* The sum() function is then used to sum up all the fitness values obtained from the previous step.\n",
        "This sum represents the total fitness of the entire population.\n",
        "Return:\n",
        "\n",
        "* Finally, the total fitness value of the population is returned.\n",
        "This function essentially encapsulates the process of evaluating the fitness of each genome in the population and aggregating these fitness values to provide an overall assessment of the population's fitness. It's a fundamental step in many evolutionary algorithms where the fitness of individuals determines their likelihood of being selected for reproduction and further evolution."
      ],
      "metadata": {
        "id": "TUBKWPzqGWmk"
      }
    },
    {
      "cell_type": "code",
      "source": [
        "# Function to calculate the total fitness of a population\n",
        "def population_fitness(population: Population, fitness_func: FitnessFunc) -> int:\n",
        "    return sum(fitness_func(genome) for genome in population)"
      ],
      "metadata": {
        "id": "pfqagL6MCN66"
      },
      "execution_count": 14,
      "outputs": []
    },
    {
      "cell_type": "markdown",
      "source": [
        "This function selects a pair of genomes from the population for reproduction. It utilizes a method called roulette wheel selection, where genomes are selected with a probability proportional to their fitness. Here's what's happening in the function:\n",
        "\n",
        "Input Parameters:\n",
        "\n",
        "* population: This is a collection of genomes representing the entire population.\n",
        "fitness_func: This is a fitness function that takes a single genome as input and returns its fitness value.\n",
        "\n",
        "Generating Weighted Distribution:\n",
        "\n",
        "* The function generate_weighted_distribution() is called with the population and fitness function as arguments. This function generates a weighted distribution of genomes based on their fitness values. Genomes with higher fitness have a higher probability of being selected.\n",
        "\n",
        "Sampling Pair of Genomes:\n",
        "\n",
        "* The sample() function is then called to randomly select 2 genomes from the weighted distribution.\n",
        "The k parameter is set to 2, indicating that we want to select 2 genomes.\n",
        "\n",
        "Return:\n",
        "* The function returns the selected pair of genomes.\n",
        "\n",
        "In summary, this function implements a method of selecting genomes for reproduction where genomes with higher fitness are more likely to be selected, thus promoting the propagation of fitter individuals in the population over successive generations."
      ],
      "metadata": {
        "id": "c4FaCcbeGv-a"
      }
    },
    {
      "cell_type": "code",
      "source": [
        "# Function to select a pair of genomes from the population for reproduction\n",
        "def selection_pair(population: Population, fitness_func: FitnessFunc) -> Population:\n",
        "    return sample(\n",
        "        population=generate_weighted_distribution(population, fitness_func),\n",
        "        k=2\n",
        "    )"
      ],
      "metadata": {
        "id": "V6mGpgGhCQPt"
      },
      "execution_count": 15,
      "outputs": []
    },
    {
      "cell_type": "markdown",
      "source": [
        "This function generate_weighted_distribution aims to create a weighted distribution of genomes from the population based on their fitness values. Here's a breakdown of what's happening:\n",
        "\n",
        "Input Parameters:\n",
        "\n",
        "* population: This is a collection of genomes representing the entire population.\n",
        "*fitness_func: This is a fitness function that takes a single genome as input and returns its fitness value.\n",
        "\n",
        "Initialization:\n",
        "\n",
        "* An empty list result is initialized. This list will contain genomes with duplicates based on their fitness.\n",
        "\n",
        "Generating Weighted Distribution:\n",
        "\n",
        "* The function iterates over each genome in the population.\n",
        "For each genome, its fitness value is calculated using the fitness_func.\n",
        "The fitness value is then converted into an integer (by adding 1) and used to determine how many times the genome should be added to the result list. This means genomes with higher fitness will appear more times in the result list, making them more likely to be selected.\n",
        "\n",
        "Return:\n",
        "* The function returns the generated weighted distribution, where genomes are duplicated based on their fitness values.\n",
        "\n",
        "In essence, this function creates a distribution where genomes with higher fitness have a higher probability of being selected for reproduction, thus promoting the propagation of fitter individuals in the population during selection processes such as roulette wheel selection."
      ],
      "metadata": {
        "id": "pLxiunsgHb0H"
      }
    },
    {
      "cell_type": "code",
      "source": [
        "# Function to generate a weighted distribution for selection\n",
        "def generate_weighted_distribution(population: Population, fitness_func: FitnessFunc) -> Population:\n",
        "    result = []\n",
        "\n",
        "    for gene in population:\n",
        "        result += [gene] * int(fitness_func(gene) + 1)\n",
        "\n",
        "    return result"
      ],
      "metadata": {
        "id": "mYM8oKH2CSF2"
      },
      "execution_count": 16,
      "outputs": []
    },
    {
      "cell_type": "markdown",
      "source": [
        "This function, sort_population, sorts the population based on the fitness of the genomes using a custom key. Here's a breakdown of what's happening:\n",
        "\n",
        "Input Parameters:\n",
        "\n",
        "* population: This is a collection of genomes representing the entire population.\n",
        "* fitness_func: This is a fitness function that takes a single genome as input and returns its fitness value.\n",
        "\n",
        "Sorting:\n",
        "\n",
        "* The sorted() function is used to sort the population.\n",
        "* The key parameter is set to fitness_func, which means the sorting will be based on the fitness value of each genome. The fitness_func is applied to each genome, and the resulting fitness values are used as the sorting criteria.\n",
        "* The reverse parameter is set to True, which means the population will be sorted in descending order of fitness. This is because higher fitness values are usually considered better in evolutionary algorithms.\n",
        "\n",
        "Return:\n",
        "* The function returns the sorted population.\n",
        "\n",
        "In summary, this function sorts the population based on the fitness values of the genomes, ensuring that the fittest individuals are positioned at the beginning of the population. This sorting step is often crucial in evolutionary algorithms to facilitate selection and reproduction mechanisms.\n",
        "\n",
        "\n",
        "\n",
        "\n",
        "\n"
      ],
      "metadata": {
        "id": "PuhES4fkIKen"
      }
    },
    {
      "cell_type": "code",
      "source": [
        "# Function to sort the population based on fitness\n",
        "def sort_population(population: Population, fitness_func: FitnessFunc) -> Population:\n",
        "    return sorted(population, key=fitness_func, reverse=True)"
      ],
      "metadata": {
        "id": "7hcLGpvKCT7O"
      },
      "execution_count": 17,
      "outputs": []
    },
    {
      "cell_type": "markdown",
      "source": [
        "This is just a simple funtion that converts a genome to a string so it can be printed out"
      ],
      "metadata": {
        "id": "tYUTxGuiIwhQ"
      }
    },
    {
      "cell_type": "code",
      "source": [
        "# Function to convert a genome to a string for printing\n",
        "def genome_to_string(genome: Genome) -> str:\n",
        "    return \"\".join(map(str, genome))"
      ],
      "metadata": {
        "id": "x9JX86WyCWEa"
      },
      "execution_count": 18,
      "outputs": []
    },
    {
      "cell_type": "markdown",
      "source": [
        "This just prints out some statistics about the current population"
      ],
      "metadata": {
        "id": "6IV95uvrJBQC"
      }
    },
    {
      "cell_type": "code",
      "source": [
        "# Function to print statistics of the current population\n",
        "def print_stats(population: Population, generation_id: int, fitness_func: FitnessFunc):\n",
        "    print(\"GENERATION %02d\" % generation_id)\n",
        "    print(\"=============\")\n",
        "    print(\"Population: [%s]\" % \", \".join(genome_to_string(gene) for gene in population))\n",
        "    print(\"Avg. Fitness: %f\" % (population_fitness(population, fitness_func) / len(population)))\n",
        "    sorted_population = sort_population(population, fitness_func)\n",
        "    print(\n",
        "        \"Best: %s (%f)\" % (genome_to_string(sorted_population[0]), fitness_func(sorted_population[0])))\n",
        "    print(\"Worst: %s (%f)\" % (genome_to_string(sorted_population[-1]),\n",
        "                              fitness_func(sorted_population[-1])))\n",
        "    print(\"\")\n",
        "\n",
        "    return sorted_population[0]"
      ],
      "metadata": {
        "id": "MSKHlOffCYFg"
      },
      "execution_count": 19,
      "outputs": []
    },
    {
      "cell_type": "markdown",
      "source": [
        "This run_evolution function is responsible for executing a genetic algorithm. It iterates through generations of populations, performing selection, crossover, and mutation operations to evolve the population towards individuals with higher fitness values. Here's a breakdown of what's happening in the function:\n",
        "\n",
        "Input Parameters:\n",
        "\n",
        "* populate_func: This function is responsible for generating an initial population.\n",
        "* fitness_func: This function evaluates the fitness of each genome in the population.\n",
        "* fitness_limit: This is the target fitness value. If any genome reaches this fitness value, the evolution process terminates.\n",
        "* selection_func: This function selects pairs of genomes from the population for reproduction. By default, it's set to selection_pair.\n",
        "* crossover_func: This function performs crossover between pairs of parent genomes. By default, it's set to single_point_crossover.\n",
        "* mutation_func: This function performs mutation on genomes. By default, it's set to mutation.\n",
        "* generation_limit: This specifies the maximum number of generations to evolve the population. By default, it's set to 100.\n",
        "* printer: This function is optional and can be used to print information about the population at each generation.\n",
        "\n",
        "Initializing Population:\n",
        "* The initial population is generated using the populate_func().\n",
        "Evolution Loop:\n",
        "\n",
        "* The function iterates through generations of the population, with a limit set by generation_limit.\n",
        "\n",
        "At each generation:\n",
        "\n",
        "* The population is sorted based on the fitness of the genomes.\n",
        "* If a printer function is provided, it's called to print information about the population.\n",
        "* If the fitness of the fittest genome in the population meets or exceeds the fitness_limit, the evolution process terminates.\n",
        "Otherwise, a new generation is created:\n",
        "* The fittest individuals from the current generation are carried over to the next generation (next_generation).\n",
        "* Additional offspring are generated through selection, crossover, and mutation operations and added to the next generation.\n",
        "The current population is updated to the newly generated population (next_generation).\n",
        "\n",
        "Return:\n",
        "* The function returns the final population and the number of generations elapsed (i).\n",
        "\n",
        "In summary, this function orchestrates the genetic algorithm process, from initializing the population to evolving it across generations until a termination condition is met. It combines various genetic operators to drive the evolution of the population towards individuals with higher fitness values."
      ],
      "metadata": {
        "id": "RtR_phE-JUou"
      }
    },
    {
      "cell_type": "code",
      "source": [
        "# Function to run the genetic algorithm\n",
        "def run_evolution(\n",
        "        populate_func: PopulateFunc,\n",
        "        fitness_func: FitnessFunc,\n",
        "        fitness_limit: int,\n",
        "        selection_func: SelectionFunc = selection_pair,\n",
        "        crossover_func: CrossoverFunc = single_point_crossover,\n",
        "        mutation_func: MutationFunc = mutation,\n",
        "        generation_limit: int = 100,\n",
        "        printer: Optional[PrinterFunc] = None) \\\n",
        "        -> Tuple[Population, int]:\n",
        "    population = populate_func()\n",
        "\n",
        "    i = 0\n",
        "    for i in range(generation_limit):\n",
        "        population = sorted(population, key=lambda genome: fitness_func(genome), reverse=True)\n",
        "\n",
        "        if printer is not None:\n",
        "            printer(population, i, fitness_func)\n",
        "\n",
        "        if fitness_func(population[0]) >= fitness_limit:\n",
        "            break\n",
        "\n",
        "        next_generation = population[0:2]\n",
        "\n",
        "        for j in range(int(len(population) / 2) - 1):\n",
        "            parents = selection_func(population, fitness_func)\n",
        "            offspring_a, offspring_b = crossover_func(parents[0], parents[1])\n",
        "            offspring_a = mutation_func(offspring_a)\n",
        "            offspring_b = mutation_func(offspring_b)\n",
        "            next_generation += [offspring_a, offspring_b]\n",
        "\n",
        "        population = next_generation\n",
        "\n",
        "    return population, i"
      ],
      "metadata": {
        "id": "Db4BgYlLCaO8"
      },
      "execution_count": 20,
      "outputs": []
    },
    {
      "cell_type": "markdown",
      "source": [
        "# Melody Generation with Genetic Algorithm Implementation:"
      ],
      "metadata": {
        "id": "gj_i9SbDKH-D"
      }
    },
    {
      "cell_type": "markdown",
      "source": [
        "In the below code i've used the genetic algorithm to generate musical melodies through a process of evolution."
      ],
      "metadata": {
        "id": "fqWIsbNlLftf"
      }
    },
    {
      "cell_type": "markdown",
      "source": [
        "These area constants that will be used in realation to Melody/Music generation.\n",
        "\n",
        "\n",
        "BITS_PER_NOTE:\n",
        "\n",
        "* This constant represents the number of bits used to encode each note in the melody. It's used in the genome representation, where each note is encoded as a sequence of binary digits.\n",
        "\n",
        "KEYS:\n",
        "\n",
        "* This constant represents a list of musical keys. Each element in the list corresponds to a specific key, such as \"C\", \"C#\", \"Db\", etc. These keys are used in music theory to define the tonal center or starting note of a musical composition.\n",
        "\n",
        "SCALES:\n",
        "\n",
        "* This constant represents a list of musical scales or modes. Each element in the list corresponds to a specific scale or mode, such as \"major\", \"minor\", \"dorian\", etc. These scales define the sequence of intervals used to construct melodies and harmonies in a given key."
      ],
      "metadata": {
        "id": "-5hjUmqVM943"
      }
    },
    {
      "cell_type": "code",
      "source": [
        "# Constants\n",
        "BITS_PER_NOTE = 4\n",
        "KEYS = [\"C\", \"C#\", \"Db\", \"D\", \"D#\", \"Eb\", \"E\", \"F\", \"F#\", \"Gb\", \"G\", \"G#\", \"Ab\", \"A\", \"A#\", \"Bb\", \"B\"]\n",
        "SCALES = [\"major\", \"minorM\", \"dorian\", \"phrygian\", \"lydian\", \"mixolydian\", \"majorBlues\", \"minorBlues\"]"
      ],
      "metadata": {
        "id": "nVjdXf5cPOwo"
      },
      "execution_count": 21,
      "outputs": []
    },
    {
      "cell_type": "markdown",
      "source": [
        "This function int_from_bits converts a list of bits (binary digits) into an integer value. Here's a breakdown of what it does:\n",
        "\n",
        "Function Signature:\n",
        "\n",
        "* int_from_bits(bits: List[int]) -> int: It takes a list of integers (bits) as input and returns an integer.\n",
        "\n",
        "Explanation:\n",
        "\n",
        "* The function iterates over each bit in the list using a list comprehension.\n",
        "For each bit, it multiplies the bit value (bit) by 2 raised to the power of its index in the list (index). This is done using the pow() function.\n",
        "The resulting values are summed up using the sum() function.\n",
        "* The final sum represents the binary value converted into an integer.\n",
        "\n",
        "Example:\n",
        "\n",
        "* Suppose you have a list of bits [1, 0, 1, 1].\n",
        "For the first bit (1), its value is multiplied by 2^0 (1), resulting in 1.\n",
        "For the second bit (0), its value is multiplied by 2^1 (2), resulting in 0.\n",
        "For the third bit (1), its value is multiplied by 2^2 (4), resulting in 4.\n",
        "For the fourth bit (1), its value is multiplied by 2^3 (8), resulting in 8.\n",
        "Summing these values (1 + 0 + 4 + 8) yields 13, which is the integer representation of the binary sequence [1, 0, 1, 1].\n",
        "\n",
        "Return Value:\n",
        "\n",
        "* The function returns the integer value obtained from the binary representation."
      ],
      "metadata": {
        "id": "kHO0xl2jPuq8"
      }
    },
    {
      "cell_type": "code",
      "source": [
        "# Helper function to convert a list of bits to an integer\n",
        "def int_from_bits(bits: List[int]) -> int:\n",
        "    return int(sum([bit*pow(2, index) for index, bit in enumerate(bits)]))"
      ],
      "metadata": {
        "id": "b0ms077DPTLs"
      },
      "execution_count": 22,
      "outputs": []
    },
    {
      "cell_type": "markdown",
      "source": [
        "This function, prompt_for_input, is designed to interactively prompt the user for input, with the option to provide a default value and specify the desired data type of the input."
      ],
      "metadata": {
        "id": "U61Z-QbxQGbv"
      }
    },
    {
      "cell_type": "code",
      "source": [
        "# Function to prompt for user input with optional default value and type casting\n",
        "def prompt_for_input(prompt: str, default=None, type_=None):\n",
        "    user_input = input(prompt + (f\" [{default}]\" if default is not None else \"\") + \": \")\n",
        "    if user_input == \"\" and default is not None:\n",
        "        return default\n",
        "    if type_ is not None:\n",
        "        try:\n",
        "            return type_(user_input)\n",
        "        except ValueError:\n",
        "            print(\"Invalid input. Please try again.\")\n",
        "            return prompt_for_input(prompt, default, type_)\n",
        "    return user_input"
      ],
      "metadata": {
        "id": "cqlJhU-CPUu_"
      },
      "execution_count": 23,
      "outputs": []
    },
    {
      "cell_type": "markdown",
      "source": [
        "\n",
        "This function, genome_to_melody, converts a genome (represented as a sequence of bits) into a melody representation. Here's a breakdown of what it does:\n",
        "\n",
        "Function Signature:\n",
        "\n",
        "* genome_to_melody:  The function iteself takes a genome, along with several parameters defining the melody, and returns a dictionary containing the melody representation.\n",
        "\n",
        "Explanation:\n",
        "\n",
        "Extracting Notes from Genome:\n",
        "* The function divides the genome into chunks, with each chunk representing a note. It iterates over the genome, slicing it into segments of length BITS_PER_NOTE.\n",
        "* Each segment represents a single note in the melody.\n",
        "\n",
        "Defining Note Length and Scale:\n",
        "* The function calculates the note length based on the total number of notes (num_notes) in a bar. The length of a note is determined by dividing the total duration of a bar (assumed to be 4) by the number of notes per bar (num_notes).\n",
        "* It defines the musical scale (scl) based on the specified key, scale, and root note. This scale will be used to map the notes extracted from the genome to actual musical notes.\n",
        "\n",
        "Converting Notes to Melody Representation:\n",
        "\n",
        "* It iterates over the extracted notes from the genome.\n",
        "* For each note, it converts the binary representation into an integer using the int_from_bits function.\n",
        "* If pauses are allowed (pauses is not zero), it ensures that the integer value of the note is within a valid range by taking its modulo with pow(2, BITS_PER_NOTE - 1). This step handles the case where the binary representation exceeds the maximum allowed value.\n",
        "* Based on the converted integer value, it populates the melody representation:\n",
        "* If the integer value represents a pause, it adds a rest in the melody with zero velocity and a note length defined earlier.\n",
        "* Otherwise, it adds the actual musical note to the melody representation along with its velocity and the corresponding note length.\n",
        "\n",
        "Adjusting Melody Steps:\n",
        "\n",
        "* It adjusts the melody steps by applying the defined scale to each note in the melody. This step ensures that the generated melody adheres to the specified musical scale.\n",
        "\n",
        "Return Value:\n",
        "\n",
        "* The function returns a dictionary containing three lists:\n",
        "\"notes\": The musical notes of the melody, adjusted based on the defined scale.\n",
        "\"velocity\": The velocity (loudness) of each note in the melody.\n",
        "\"beat\": The duration of each note in the melody."
      ],
      "metadata": {
        "id": "D62KPSZSQX82"
      }
    },
    {
      "cell_type": "code",
      "source": [
        "# Function to convert a genome to melody representation\n",
        "def genome_to_melody(genome: Genome, num_bars: int, num_notes: int, num_steps: int,\n",
        "                     pauses: int, key: str, scale: str, root: int) -> Dict[str, list]:\n",
        "    # Extract notes from the genome\n",
        "    notes = [genome[i * BITS_PER_NOTE:i * BITS_PER_NOTE + BITS_PER_NOTE] for i in range(num_bars * num_notes)]\n",
        "\n",
        "    note_length = 4 / float(num_notes)\n",
        "\n",
        "    # Define the scale\n",
        "    scl = EventScale(root=key, scale=scale, first=root)\n",
        "\n",
        "    melody = {\n",
        "        \"notes\": [],\n",
        "        \"velocity\": [],\n",
        "        \"beat\": []\n",
        "    }\n",
        "\n",
        "    # Convert notes to melody representation\n",
        "    for note in notes:\n",
        "        integer = int_from_bits(note)\n",
        "\n",
        "        if pauses:\n",
        "            integer = int(integer % pow(2, BITS_PER_NOTE - 1))\n",
        "\n",
        "        if integer >= pow(2, BITS_PER_NOTE - 1):\n",
        "            melody[\"notes\"] += [0]\n",
        "            melody[\"velocity\"] += [0]\n",
        "            melody[\"beat\"] += [note_length]\n",
        "        else:\n",
        "            if len(melody[\"notes\"]) > 0 and melody[\"notes\"][-1] == integer:\n",
        "                melody[\"beat\"][-1] += note_length\n",
        "            else:\n",
        "                melody[\"notes\"] += [integer]\n",
        "                melody[\"velocity\"] += [127]\n",
        "                melody[\"beat\"] += [note_length]\n",
        "\n",
        "    steps = []\n",
        "    for step in range(num_steps):\n",
        "        steps.append([scl[(note+step*2) % len(scl)] for note in melody[\"notes\"]])\n",
        "\n",
        "    melody[\"notes\"] = steps\n",
        "    return melody"
      ],
      "metadata": {
        "id": "zuqCpY9FPXG8"
      },
      "execution_count": 24,
      "outputs": []
    },
    {
      "cell_type": "markdown",
      "source": [
        "This function, genome_to_events, takes a genome and other parameters related to the melody, and converts it into a sequence of events suitable for sound synthesis by Pyo. Here's an explanation of what it does:\n",
        "\n",
        "Function Signature:\n",
        "\n",
        "* genome_to_events(genome: Genome, num_bars: int, num_notes: int, num_steps: int, pauses: bool, key: str, scale: str, root: int, bpm: int) -> [Events]: It takes a genome along with other parameters defining the melody and returns a list of events.\n",
        "\n",
        "Explanation:\n",
        "\n",
        "Converting Genome to Melody:\n",
        "\n",
        "* It first calls the genome_to_melody function to convert the genome into a melody representation. This step generates a dictionary containing the musical notes, velocities, and durations of the melody based on the genome and other parameters.\n",
        "\n",
        "Creating Events:\n",
        "\n",
        "* It iterates over each step (bar) in the melody.\n",
        "* For each step, it creates an Events object:\n",
        "* midinote: Represents the MIDI note numbers corresponding to the notes in the melody. It uses an EventSeq to specify a sequence of MIDI notes for the step.\n",
        "* midivel: Represents the MIDI velocity (loudness) of each note in the melody. It uses an EventSeq to specify a sequence of velocities for the step.\n",
        "* beat: Represents the duration of each note in the melody. It uses an EventSeq to specify a sequence of durations for the step.\n",
        "attack, decay, sustain, release: Parameters controlling the envelope of the synthesized sound. These values determine how the sound evolves over time.\n",
        "* bpm: Beats per minute, specifying the tempo of the melody.\n",
        "List Comprehension:\n",
        "It uses a list comprehension to create an Events object for each step in the melody, resulting in a list of Events objects.\n",
        "Return Value:\n",
        "\n",
        "The function returns a list of Events objects, each representing a step in the melody with MIDI note numbers, velocities, durations, and other parameters required for sound synthesis."
      ],
      "metadata": {
        "id": "BuQzPCUURuBb"
      }
    },
    {
      "cell_type": "code",
      "source": [
        "# Function to convert a genome to events for sound synthesis\n",
        "def genome_to_events(genome: Genome, num_bars: int, num_notes: int, num_steps: int,\n",
        "                     pauses: bool, key: str, scale: str, root: int, bpm: int) -> [Events]:\n",
        "    melody = genome_to_melody(genome, num_bars, num_notes, num_steps, pauses, key, scale, root)\n",
        "\n",
        "    return [\n",
        "        Events(\n",
        "            midinote=EventSeq(step, occurrences=1),\n",
        "            midivel=EventSeq(melody[\"velocity\"], occurrences=1),\n",
        "            beat=EventSeq(melody[\"beat\"], occurrences=1),\n",
        "            attack=0.001,\n",
        "            decay=0.05,\n",
        "            sustain=0.5,\n",
        "            release=0.005,\n",
        "            bpm=bpm\n",
        "        ) for step in melody[\"notes\"]\n",
        "    ]"
      ],
      "metadata": {
        "id": "T_0rNQ6_PZ3Z"
      },
      "execution_count": 25,
      "outputs": []
    },
    {
      "cell_type": "markdown",
      "source": [
        "This function, fitness, is responsible for evaluating the fitness of a given genome based on its generated melody. Here's a breakdown of what it does:\n",
        "\n",
        "Function Signature:\n",
        "\n",
        "* fitness(genome: Genome, s: Server, num_bars: int, num_notes: int, num_steps: int, pauses: bool, key: str, scale: str, root: int, bpm: int) -> int: It takes a genome, a server object, and various parameters related to the melody generation, and returns an integer representing the fitness rating.\n",
        "Explanation:\n",
        "\n",
        "Metronome Initialization:\n",
        "\n",
        "* It initializes a metronome (m) with the provided beats per minute (bpm) using the metronome function.\n",
        "Generating Events:\n",
        "It calls the genome_to_events function to convert the genome into a sequence of events representing the melody. These events are played by the server (s).\n",
        "\n",
        "Playback and Rating:\n",
        "\n",
        "* It starts the server (s) to play the generated melody events.\n",
        "* It prompts the user to provide a rating for the melody, expecting a value between 0 and 5.\n",
        "\n",
        "Rating Conversion:\n",
        "\n",
        "* It attempts to convert the user-provided rating to an integer. If the conversion fails (e.g., if the user inputs a non-integer value), it defaults the rating to 0.\n",
        "\n",
        "Server and Delay Handling:\n",
        "\n",
        "* It stops the server (s) to halt the playback of the melody.\n",
        "It introduces a 1-second delay using time.sleep(1) to ensure proper termination and avoid potential conflicts with subsequent evaluations.\n",
        "Return Value:\n",
        "\n",
        "The function returns the user-provided rating as an integer, representing the fitness of the genome. This rating indicates how well the generated melody is perceived by the user, with higher ratings indicating better fitness."
      ],
      "metadata": {
        "id": "i52Gg1pwSOxr"
      }
    },
    {
      "cell_type": "code",
      "source": [
        "# Function to evaluate the fitness of a genome\n",
        "def fitness(genome: Genome, s: Server, num_bars: int, num_notes: int, num_steps: int,\n",
        "            pauses: bool, key: str, scale: str, root: int, bpm: int) -> int:\n",
        "    m = metronome(bpm)\n",
        "\n",
        "    events = genome_to_events(genome, num_bars, num_notes, num_steps, pauses, key, scale, root, bpm)\n",
        "    for e in events:\n",
        "        e.play()\n",
        "    s.start()\n",
        "\n",
        "    rating = input(\"Rating (0-5)\")\n",
        "\n",
        "    for e in events:\n",
        "        e.stop()\n",
        "    s.stop()\n",
        "    time.sleep(1)\n",
        "\n",
        "    try:\n",
        "        rating = int(rating)\n",
        "    except ValueError:\n",
        "        rating = 0\n",
        "\n",
        "    return rating\n"
      ],
      "metadata": {
        "id": "uFYiyWOWPb6l"
      },
      "execution_count": 26,
      "outputs": []
    },
    {
      "cell_type": "markdown",
      "source": [
        "This function, metronome, is responsible for generating a metronome sound."
      ],
      "metadata": {
        "id": "ydjuLVeISohG"
      }
    },
    {
      "cell_type": "code",
      "source": [
        "# Function to generate a metronome sound\n",
        "def metronome(bpm: int):\n",
        "    met = Metro(time=1 / (bpm / 60.0)).play()\n",
        "    t = CosTable([(0, 0), (50, 1), (200, .3), (500, 0)])\n",
        "    amp = TrigEnv(met, table=t, dur=.25, mul=1)\n",
        "    freq = Iter(met, choice=[660, 440, 440, 440])\n",
        "    return Sine(freq=freq, mul=amp).mix(2).out()"
      ],
      "metadata": {
        "id": "dGfFMG2GPeOW"
      },
      "execution_count": 27,
      "outputs": []
    },
    {
      "cell_type": "markdown",
      "source": [
        "This function creates a midi file of a genome and saves it to a folder"
      ],
      "metadata": {
        "id": "MzVotLFtS0L4"
      }
    },
    {
      "cell_type": "code",
      "source": [
        "# Function to save the melody generated from a genome to MIDI file\n",
        "def save_genome_to_midi(filename: str, genome: Genome, num_bars: int, num_notes: int, num_steps: int,\n",
        "                        pauses: bool, key: str, scale: str, root: int, bpm: int):\n",
        "    melody = genome_to_melody(genome, num_bars, num_notes, num_steps, pauses, key, scale, root)\n",
        "\n",
        "    if len(melody[\"notes\"][0]) != len(melody[\"beat\"]) or len(melody[\"notes\"][0]) != len(melody[\"velocity\"]):\n",
        "        raise ValueError\n",
        "\n",
        "    mf = MIDIFile(1)\n",
        "\n",
        "    track = 0\n",
        "    channel = 0\n",
        "\n",
        "    time = 0.0\n",
        "    mf.addTrackName(track, time, \"Sample Track\")\n",
        "    mf.addTempo(track, time, bpm)\n",
        "\n",
        "    for i, vel in enumerate(melody[\"velocity\"]):\n",
        "        if vel > 0:\n",
        "            for step in melody[\"notes\"]:\n",
        "                mf.addNote(track, channel, step[i], time, melody[\"beat\"][i], vel)\n",
        "\n",
        "        time += melody[\"beat\"][i]\n",
        "\n",
        "    os.makedirs(os.path.dirname(filename), exist_ok=True)\n",
        "    with open(filename, \"wb\") as f:\n",
        "        mf.writeFile(f)"
      ],
      "metadata": {
        "id": "FkxSIBaxPgME"
      },
      "execution_count": 28,
      "outputs": []
    },
    {
      "cell_type": "markdown",
      "source": [
        "In this code, the main function orchestrates the entire genetic algorithm process for generating melodies.\n",
        "\n",
        "Here's whats happening :\n",
        "\n",
        "Prompting for Parameters:\n",
        "\n",
        "* The function prompts the user to input various parameters such as the number of bars, notes per bar, number of steps, whether to introduce pauses, key, scale, scale root, population size, number of mutations, mutation probability, and BPM (beats per minute).\n",
        "\n",
        "Generating Initial Population:\n",
        "\n",
        "* The initial population of genomes is generated. Each genome represents a melody. The size of the population is determined by the population_size parameter.\n",
        "\n",
        "Evaluation and Selection:\n",
        "\n",
        "* The fitness of each genome in the population is evaluated using the fitness function.\n",
        "* Genomes are evaluated based on how well their melodies sound when played. * *\n",
        "* Higher fitness values indicate better melodies.\n",
        "The population is sorted based on fitness in descending order.\n",
        "The top two genomes (melodies) are selected for playback and further reproduction.\n",
        "\n",
        "Reproduction:\n",
        "\n",
        "* For the next generation, offspring genomes are generated through selection, crossover, and mutation processes. This is done by selecting pairs of parent genomes, applying crossover to create offspring, and mutating the offspring genomes.\n",
        "* The top two genomes from the previous generation are retained, and the rest of the population is filled with offspring.\n",
        "Playback and MIDI File Saving:\n",
        "\n",
        "* The top two genomes from the current generation (population) are played back using the genome_to_events function to hear their melodies.\n",
        "The melodies of all genomes in the population are saved as MIDI files using the save_genome_to_midi function.\n",
        "Loop and User Interaction:\n",
        "\n",
        "The process continues until the user decides to stop. After each generation, the user is prompted to continue or stop the algorithm.\n",
        "This function essentially implements the core logic of a genetic algorithm for generating melodies, including evaluation, selection, reproduction, and user interaction."
      ],
      "metadata": {
        "id": "q5l5VNafTBuy"
      }
    },
    {
      "cell_type": "code",
      "source": [
        "# Main function\n",
        "def main():\n",
        "    # Prompt user for various parameters\n",
        "    num_bars = prompt_for_input(\"Number of bars\", default=8, type_=int)\n",
        "    num_notes = prompt_for_input(\"Notes per bar\", default=4, type_=int)\n",
        "    num_steps = prompt_for_input(\"Number of steps\", default=1, type_=int)\n",
        "    pauses = prompt_for_input(\"Introduce Pauses (True/False)\", default=False, type_=bool)\n",
        "    key = prompt_for_input(\"Key\", default=\"C\")\n",
        "    scale = prompt_for_input(\"Scale\", default=\"major\")\n",
        "    root = prompt_for_input(\"Scale Root\", default=4, type_=int)\n",
        "    population_size = prompt_for_input(\"Population size\", default=10, type_=int)\n",
        "    num_mutations = prompt_for_input(\"Number of mutations\", default=2, type_=int)\n",
        "    mutation_probability = prompt_for_input(\"Mutation probability\", default=0.5, type_=float)\n",
        "    bpm = prompt_for_input(\"BPM\", default=128, type_=int)\n",
        "\n",
        "    folder = str(int(datetime.now().timestamp()))\n",
        "\n",
        "    # Generate initial population\n",
        "    population = [generate_genome(num_bars * num_notes * BITS_PER_NOTE) for _ in range(population_size)]\n",
        "\n",
        "    s = Server().boot()\n",
        "\n",
        "    population_id = 0\n",
        "\n",
        "    running = True\n",
        "    while running:\n",
        "        # Shuffle the population\n",
        "        random.shuffle(population)\n",
        "\n",
        "        # Evaluate fitness for each genome in the population\n",
        "        population_fitness = [(genome, fitness(genome, s, num_bars, num_notes, num_steps, pauses, key, scale, root, bpm)) for genome in population]\n",
        "\n",
        "        # Sort the population based on fitness\n",
        "        sorted_population_fitness = sorted(population_fitness, key=lambda e: e[1], reverse=True)\n",
        "\n",
        "        # Select top genomes for next generation\n",
        "        next_generation = population[0:2]\n",
        "\n",
        "        for j in range(int(len(population) / 2) - 1):\n",
        "\n",
        "            # Function to look up fitness of a genome\n",
        "            def fitness_lookup(genome):\n",
        "                for e in population_fitness:\n",
        "                    if e[0] == genome:\n",
        "                        return e[1]\n",
        "                return 0\n",
        "\n",
        "            # Selection, crossover, and mutation\n",
        "            parents = selection_pair(population, fitness_lookup)\n",
        "            offspring_a, offspring_b = single_point_crossover(parents[0], parents[1])\n",
        "            offspring_a = mutation(offspring_a, num=num_mutations, probability=mutation_probability)\n",
        "            offspring_b = mutation(offspring_b, num=num_mutations, probability=mutation_probability)\n",
        "            next_generation += [offspring_a, offspring_b]\n",
        "\n",
        "        print(f\"population {population_id} done\")\n",
        "\n",
        "        # Playback top two genomes\n",
        "        events = genome_to_events(population[0], num_bars, num_notes, num_steps, pauses, key, scale, root, bpm)\n",
        "        for e in events:\n",
        "            e.play()\n",
        "        s.start()\n",
        "        input(\"here is the no1 hit …\")\n",
        "        s.stop()\n",
        "        for e in events:\n",
        "            e.stop()\n",
        "\n",
        "        time.sleep(1)\n",
        "\n",
        "        events = genome_to_events(population[1], num_bars, num_notes, num_steps, pauses, key, scale, root, bpm)\n",
        "        for e in events:\n",
        "            e.play()\n",
        "        s.start()\n",
        "        input(\"here is the second best …\")\n",
        "        s.stop()\n",
        "        for e in events:\n",
        "            e.stop()\n",
        "\n",
        "        time.sleep(1)\n",
        "\n",
        "        # Save MIDI files for each genome in the population\n",
        "        print(\"saving population midi …\")\n",
        "        for i, genome in enumerate(population):\n",
        "            save_genome_to_midi(f\"{folder}/{population_id}/{scale}-{key}-{i}.mid\", genome, num_bars, num_notes, num_steps, pauses, key, scale, root, bpm)\n",
        "        print(\"done\")\n",
        "\n",
        "        # Prompt user to continue or stop\n",
        "        running = input(\"continue? [Y/n]\") != \"n\"\n",
        "        population = next_generation\n",
        "        population_id += 1\n",
        "\n",
        "\n",
        "if __name__ == '__main__':\n",
        "    main()"
      ],
      "metadata": {
        "id": "6yoEiGfbJJ5v",
        "colab": {
          "base_uri": "https://localhost:8080/"
        },
        "outputId": "1387ef3a-b9a8-43ee-924d-c63d5c551056"
      },
      "execution_count": null,
      "outputs": [
        {
          "name": "stdout",
          "output_type": "stream",
          "text": [
            "Number of bars [8]: 4\n",
            "Notes per bar [4]: 2\n",
            "Number of steps [1]: 1\n",
            "Introduce Pauses (True/False) [False]: False\n",
            "Key [C]: C\n",
            "Scale [major]: major\n",
            "Scale Root [4]: 4\n",
            "Population size [10]: 5\n",
            "Number of mutations [2]: 2\n",
            "Mutation probability [0.5]: 0.5\n",
            "BPM [128]: 128\n",
            "Rating (0-5)5\n",
            "Rating (0-5)2\n",
            "Rating (0-5)3\n",
            "Rating (0-5)1\n",
            "Rating (0-5)4\n",
            "here is the no1 hit …\n",
            "here is the second best …\n",
            "continue? [Y/n]y\n"
          ]
        }
      ]
    }
  ]
}