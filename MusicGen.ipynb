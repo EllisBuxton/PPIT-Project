{
  "nbformat": 4,
  "nbformat_minor": 0,
  "metadata": {
    "colab": {
      "provenance": [],
      "authorship_tag": "ABX9TyMuH8MvEpJJemTP3kDAaqyP",
      "include_colab_link": true
    },
    "kernelspec": {
      "name": "python3",
      "display_name": "Python 3"
    },
    "language_info": {
      "name": "python"
    }
  },
  "cells": [
    {
      "cell_type": "markdown",
      "metadata": {
        "id": "view-in-github",
        "colab_type": "text"
      },
      "source": [
        "<a href=\"https://colab.research.google.com/github/EllisBuxton/PPIT-Project/blob/main/MusicGen.ipynb\" target=\"_parent\"><img src=\"https://colab.research.google.com/assets/colab-badge.svg\" alt=\"Open In Colab\"/></a>"
      ]
    },
    {
      "cell_type": "markdown",
      "source": [
        "# Music Combiner"
      ],
      "metadata": {
        "id": "AGrp5rEGbYfg"
      }
    },
    {
      "cell_type": "markdown",
      "source": [
        "This notebook will contain a Machine Learning music combiner.\n",
        "\n",
        "\n",
        "\n",
        "*  The user will input two different Youtube videos\n",
        "*  Pytube will be used to download the two videos\n",
        "* The audio will be converted to suitable format\n",
        "* The machine learning model will be trained on the extracted features\n",
        "* The trained model will generate new music based on the input features extracted\n",
        "\n"
      ],
      "metadata": {
        "id": "KtUjn9a0cEF1"
      }
    },
    {
      "cell_type": "markdown",
      "source": [
        "Libraries Used:\n",
        "\n",
        "\n",
        "*   Pytube (download the Youtube video's)\n",
        "*   Librosa (audio manipulation and analysis)\n",
        "* Numpy (data representation)\n",
        "* TensorFlow (Machine Learning Training)\n",
        "\n"
      ],
      "metadata": {
        "id": "oKspoVN-dtFz"
      }
    },
    {
      "cell_type": "code",
      "source": [
        "# Install Libraries\n",
        "\n",
        "!pip install pytube\n",
        "!pip install librosa\n",
        "!pip install numpy\n",
        "!pip install tensorflow"
      ],
      "metadata": {
        "id": "JCscP12tdPxk"
      },
      "execution_count": null,
      "outputs": []
    },
    {
      "cell_type": "markdown",
      "source": [
        "Importing:"
      ],
      "metadata": {
        "id": "VgDshZRuh5ak"
      }
    },
    {
      "cell_type": "code",
      "source": [
        "import os\n",
        "import librosa\n",
        "inport numpy as np\n",
        "from pytube import Youtube\n",
        "import tensorflow as tf\n",
        "from tensorflow.keras import layers, models"
      ],
      "metadata": {
        "id": "3H3Z4w1vh8Mz"
      },
      "execution_count": null,
      "outputs": []
    }
  ]
}